{
 "cells": [
  {
   "cell_type": "code",
   "execution_count": 12,
   "id": "5e2b47ca",
   "metadata": {},
   "outputs": [],
   "source": [
    "import numpy as np\n",
    "import tensorflow as tf\n",
    "import matplotlib.pyplot as plt\n",
    "import time\n",
    "import scipy \n",
    "import scipy.io\n",
    "\n",
    "OBS_DIM = 2\n",
    "ACT_DIM = 1\n",
    "ACT_LOW = -1\n",
    "ACT_HIGH = 1\n",
    "\n",
    "HID_DIM = 32\n"
   ]
  },
  {
   "cell_type": "markdown",
   "id": "85795273",
   "metadata": {},
   "source": [
    "## Rollout Policies"
   ]
  },
  {
   "cell_type": "code",
   "execution_count": 3,
   "id": "bb1ae31d",
   "metadata": {},
   "outputs": [],
   "source": [
    "\n",
    "class RandomPolicy(tf.keras.Model):\n",
    "    def __init__(self, ):\n",
    "        super(RandomPolicy, self).__init__()\n",
    "        return\n",
    "    def call(self, ):\n",
    "        return tf.convert_to_tensor(np.random.uniform(low=ACT_LOW, high=ACT_HIGH, size=(ACT_DIM)))\n",
    "\n",
    "\n",
    "class ImitationPolicy(tf.keras.Model):\n",
    "    def __init__(self, ):\n",
    "        super(ImitationPolicy, self).__init__()\n",
    "        self.linear1 = tf.keras.layers.Dense(input_shape=[OBS_DIM], units=HID_DIM, \n",
    "                                             activation=\"relu\", use_bias=True)\n",
    "        self.linear2 = tf.keras.layers.Dense(units=ACT_DIM, activation=\"sigmoid\", use_bias=True)\n",
    "\n",
    "    def call(self, x):\n",
    "        x = self.linear1(x)\n",
    "        x = self.linear2(x)\n",
    "        return x\n",
    "\n",
    "    "
   ]
  },
  {
   "cell_type": "code",
   "execution_count": 7,
   "id": "9a28d99f",
   "metadata": {},
   "outputs": [
    {
     "name": "stdout",
     "output_type": "stream",
     "text": [
      "1000 Iterations cost: 0.6516 s.\n"
     ]
    }
   ],
   "source": [
    "model = ImitationPolicy()\n",
    "x = np.random.uniform(size=(1, OBS_DIM))\n",
    "\n",
    "t0 = time.time()\n",
    "for i in range(1000):\n",
    "    y = model(x) \n",
    "\n",
    "print(f'1000 Iterations cost: {time.time()-t0:.4f} s.')"
   ]
  },
  {
   "cell_type": "markdown",
   "id": "4a6f00ef",
   "metadata": {},
   "source": [
    "## Imitation Learning"
   ]
  },
  {
   "cell_type": "code",
   "execution_count": 25,
   "id": "73e761c6",
   "metadata": {},
   "outputs": [
    {
     "name": "stdout",
     "output_type": "stream",
     "text": [
      "Train Samples: 2000 Val Samples: 500\n"
     ]
    },
    {
     "data": {
      "text/plain": [
       "<matplotlib.legend.Legend at 0x7f553417e3d0>"
      ]
     },
     "execution_count": 25,
     "metadata": {},
     "output_type": "execute_result"
    },
    {
     "data": {
      "image/png": "[encoded data removed]",
      "text/plain": [
       "<Figure size 1008x432 with 1 Axes>"
      ]
     },
     "metadata": {
      "needs_background": "light"
     },
     "output_type": "display_data"
    }
   ],
   "source": [
    "\n",
    "# 1. load data\n",
    "SPLIT_RATIO = 0.2\n",
    "mat = scipy.io.loadmat('data/deltaT02M100.mat')\n",
    "x = mat['input_s']\n",
    "y = mat['output_a']\n",
    "\n",
    "n_val = int(SPLIT_RATIO * len(x))\n",
    "x_train = x[n_val:]\n",
    "y_train = y[n_val:]\n",
    "x_val = x[:n_val]\n",
    "y_val = y[:n_val]\n",
    "\n",
    "print(f'Train Samples: {len(x_train)} Val Samples: {len(x_val)}')\n",
    "\n",
    "# 2. fit data on model\n",
    "model = ImitationPolicy()\n",
    "model.compile(loss=\"mse\", optimizer=\"sgd\", metrics=[\"mse\"])\n",
    "history = model.fit(x_train, y_train, validation_data=(x_val, y_val), \n",
    "                  epochs=100, \n",
    "                  batch_size=32, verbose=0\n",
    "         )\n",
    "\n",
    "# 3. plot learning curves\n",
    "fig, axes = fig, axes = plt.subplots(1, 1, figsize=(14, 6))\n",
    "axes.plot(history.history[\"mse\"], label=\"train_mse\")\n",
    "axes.plot(history.history[\"val_mse\"], label=\"val_mse\")\n",
    "axes.legend()"
   ]
  },
  {
   "cell_type": "code",
   "execution_count": null,
   "id": "cce95f26",
   "metadata": {},
   "outputs": [],
   "source": []
  }
 ],
 "metadata": {
  "kernelspec": {
   "display_name": "Python [conda env:test]",
   "language": "python",
   "name": "conda-env-test-py"
  },
  "language_info": {
   "codemirror_mode": {
    "name": "ipython",
    "version": 3
   },
   "file_extension": ".py",
   "mimetype": "text/x-python",
   "name": "python",
   "nbconvert_exporter": "python",
   "pygments_lexer": "ipython3",
   "version": "3.7.11"
  }
 },
 "nbformat": 4,
 "nbformat_minor": 5
}
